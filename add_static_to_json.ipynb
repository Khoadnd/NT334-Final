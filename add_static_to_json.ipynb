{
 "cells": [
  {
   "cell_type": "code",
   "execution_count": 39,
   "metadata": {},
   "outputs": [],
   "source": [
    "import json\n",
    "import os"
   ]
  },
  {
   "cell_type": "code",
   "execution_count": 40,
   "metadata": {},
   "outputs": [],
   "source": [
    "samples = [os.path.splitext(x)[0] for x in os.listdir('samples')]"
   ]
  },
  {
   "cell_type": "code",
   "execution_count": 41,
   "metadata": {},
   "outputs": [],
   "source": [
    "def parse_txt(path):\n",
    "  d = {}\n",
    "  \n",
    "  with open(path) as f:\n",
    "    data = f.read()\n",
    "    \n",
    "  data = data.split('\\n  \\n ')\n",
    "  data = [x.strip() for x in data]\n",
    "  \n",
    "  key = [x.partition(' :')[0] for x in data]\n",
    "  value = [x.partition(' : \\n')[2].split('\\n') for x in data]\n",
    "  \n",
    "  for i in range(len(key)):\n",
    "    d[key[i]] = value[i]\n",
    "  \n",
    "  return d"
   ]
  },
  {
   "cell_type": "code",
   "execution_count": 42,
   "metadata": {},
   "outputs": [],
   "source": [
    "def parse_json(path):\n",
    "  with open(path) as f:\n",
    "    data = json.load(f)\n",
    "  return data"
   ]
  },
  {
   "cell_type": "code",
   "execution_count": 43,
   "metadata": {},
   "outputs": [],
   "source": [
    "for sample in samples:\n",
    "  sample_json = parse_json(os.path.join('samples', sample + '.json'))\n",
    "  static_feature = parse_txt(os.path.join('raw-extracted-apkfile',sample + '.apk','Static_Features.txt'))\n",
    "  merged = {**static_feature, **sample_json}\n",
    "    \n",
    "  merged = json.dumps(merged)\n",
    "    \n",
    "  with open(os.path.join('test', sample + '.json'), 'w') as f:\n",
    "    f.write(\"{\\n\")\n",
    "    for k in merged.keys():\n",
    "      f.write('\"{}\":{},\\n'.format(k, merged[k]))\n",
    "    f.write(\"}\")"
   ]
  }
 ],
 "metadata": {
  "kernelspec": {
   "display_name": "Python 3",
   "language": "python",
   "name": "python3"
  },
  "language_info": {
   "codemirror_mode": {
    "name": "ipython",
    "version": 3
   },
   "file_extension": ".py",
   "mimetype": "text/x-python",
   "name": "python",
   "nbconvert_exporter": "python",
   "pygments_lexer": "ipython3",
   "version": "3.11.3"
  },
  "orig_nbformat": 4
 },
 "nbformat": 4,
 "nbformat_minor": 2
}
